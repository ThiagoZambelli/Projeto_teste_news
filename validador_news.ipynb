{
  "cells": [
    {
      "cell_type": "markdown",
      "metadata": {
        "colab_type": "text",
        "id": "view-in-github"
      },
      "source": [
        "<a href=\"https://colab.research.google.com/github/ThiagoZambelli/Projeto_teste_news/blob/main/validador_news.ipynb\" target=\"_parent\"><img src=\"https://colab.research.google.com/assets/colab-badge.svg\" alt=\"Open In Colab\"/></a>"
      ]
    },
    {
      "cell_type": "code",
      "execution_count": null,
      "metadata": {
        "id": "tpytR-VmHZgX"
      },
      "outputs": [],
      "source": [
        "from pathlib import Path\n",
        "import hashlib\n",
        "import google.generativeai as genai\n",
        "\n",
        "genai.configure(api_key=\"COLE SUA API KEY AQUI\")\n",
        "\n",
        "# Set up the model\n",
        "generation_config = {\n",
        "  \"temperature\": 1,\n",
        "  \"top_p\": 0.95,\n",
        "  \"top_k\": 0,\n",
        "  \"max_output_tokens\": 8192,\n",
        "}\n",
        "\n",
        "safety_settings = [\n",
        "  {\n",
        "    \"category\": \"HARM_CATEGORY_HARASSMENT\",\n",
        "    \"threshold\": \"BLOCK_MEDIUM_AND_ABOVE\"\n",
        "  },\n",
        "  {\n",
        "    \"category\": \"HARM_CATEGORY_HATE_SPEECH\",\n",
        "    \"threshold\": \"BLOCK_MEDIUM_AND_ABOVE\"\n",
        "  },\n",
        "  {\n",
        "    \"category\": \"HARM_CATEGORY_SEXUALLY_EXPLICIT\",\n",
        "    \"threshold\": \"BLOCK_MEDIUM_AND_ABOVE\"\n",
        "  },\n",
        "  {\n",
        "    \"category\": \"HARM_CATEGORY_DANGEROUS_CONTENT\",\n",
        "    \"threshold\": \"BLOCK_MEDIUM_AND_ABOVE\"\n",
        "  },\n",
        "]\n",
        "\n",
        "model = genai.GenerativeModel(model_name=\"gemini-1.5-pro-latest\",\n",
        "                              generation_config=generation_config,\n",
        "                              safety_settings=safety_settings)\n",
        "\n",
        "def analisar_noticia(noticia):\n",
        "  prompt_parts = [\n",
        "      \"você é responsável por avaliar a probabilidade das noticias inseridas, sejam textos, imagens ou vídeos, baseado em logica. Vai dar explicações sucintas e listadas da avaliação. Caso seja uma imagem liste o porque do seu argumento assim como no texto. Você é responsável por diminuir o numero de noticias falsas sendo espalhadas. De fontes para sustentar seus argumentos.\",\n",
        "  \"input: Imagem, texto ou vídeo referente a noticia a ser analisada.  Cara, disseram que foi vista uma girafa dentro do estacionamento da HAVAN de Cachoeirinha.\",\n",
        "  \"output: analise de probabilidade  de veracidade da noticia, levando em consideração apenas fatos, logica e dando explicações sucintas com base na realidade. A probabilidade de uma girafa estar no estacionamento da HAVAN de Cachoeirinha é extremamente baixa. Aqui estão alguns motivos:\\nGirafas não são nativas do Brasil: Elas são animais africanos e não existem girafas em ambiente selvagem no Brasil.\\nCativeiro: É improvável que uma girafa esteja legalmente em cativeiro no Brasil, especialmente em um ambiente como um estacionamento. Zoológicos e locais com permissão para abrigar animais exóticos possuem segurança reforçada para evitar fugas.\\nLogística: Transportar uma girafa até um estacionamento exige um grande caminhão e logística complexa, o que dificilmente passaria despercebido.\\nTestemunhas e Mídias Sociais: Se realmente houvesse uma girafa em um local público, notícias e fotos se espalhariam rapidamente nas redes sociais.\\nConclusão: É muito provável que a notícia seja falsa ou um mal entendido.\",\n",
        "  \"input: Imagem, texto ou vídeo referente a noticia a ser analisada.  \",\n",
        "  genai.upload_file(\"/content/images.jpg\"),\n",
        "  \"output: analise de probabilidade  de veracidade da noticia, levando em consideração apenas fatos, logica e dando explicações sucintas com base na realidade. A imagem apresentada é claramente uma montagem ou resultado de manipulação digital. Aqui estão os motivos:\\nDensidade e Flutuação: Bicicletas são feitas principalmente de metal, tornando-as muito mais densas que a água. É fisicamente impossível para uma bicicleta flutuar na superfície como mostrado na imagem.\\nComportamento da Água: A água não criaria um \\\"efeito fantasma\\\" perfeito da bicicleta embaixo da superfície. A refração da luz na água distorceria a imagem, e a turbulência causada pelo ciclista e a bicicleta também impediria a formação de um reflexo claro.\\nPosição do Ciclista: O ciclista está confortavelmente apoiado em uma bicicleta que deveria estar afundando. Sua postura sugere que a bicicleta está estável, o que seria impossível em uma situação real.\\nConclusão: A imagem não retrata um evento real, sendo certamente uma criação artística ou uma manipulação digital para fins humorísticos ou estéticos.\",\n",
        "  \"input: Imagem, texto ou vídeo referente a noticia a ser analisada.  Uma lancha com seis ocupantes explodiu na altura do arco do canal, em Cabo Frio, na Região dos Lagos do Rio, deixando todos gravemente feridos, entre eles três crianças.De acordo com a Guarda Marítima, o acidente ocorreu por volta das 11h07 desta sexta-feira (10), no momento em que agentes da Guarda faziam um treinamento com a PM e Marinha.\",\n",
        "  \"output: analise de probabilidade  de veracidade da noticia, levando em consideração apenas fatos, logica e dando explicações sucintas com base na realidade. Análise da notícia sobre a explosão da lancha em Cabo Frio:\\nProbabilidade: Alta. A notícia possui elementos que indicam ser um evento real:\\nDetalhes específicos: A notícia apresenta informações precisas sobre o local (Cabo Frio, arco do canal), horário (11h07) e data (sexta-feira, 10). Detalhes específicos como esses são mais comuns em relatos verdadeiros.\\nTestemunhas e Autoridades: A notícia menciona a Guarda Marítima como fonte de informação, indicando que autoridades estão envolvidas e cientes do ocorrido.\\nContexto: Acidentes com embarcações, infelizmente, não são incomuns, especialmente em áreas turísticas durante feriados ou finais de semana.\\nGravidade do evento: A explosão de uma lancha com feridos graves, incluindo crianças, é um evento de grande impacto que atrairia atenção da mídia e das autoridades.\\nPontos a considerar:\\nConfirmação oficial: Seria importante verificar se a notícia foi divulgada por outros veículos de comunicação e se há comunicados oficiais da Guarda Marítima ou outras autoridades.\\nAtualizações: Acompanhar notícias posteriores para saber o estado de saúde dos feridos e eventuais investigações sobre a causa da explosão.\\nConclusão: Com base nas informações disponíveis, a notícia sobre a explosão da lancha em Cabo Frio é provavelmente verdadeira.\",\n",
        "  \"input: Imagem, texto ou vídeo referente a noticia a ser analisada.  Mudança climática tornou chuvas no RS mais intensas, aponta estudoSegundo pesquisadores do ClimaMeter, chuvas ficaram 15% mais intensas devido às mudanças climáticas. Conclusão é uma \\\"análise rápida de atribuição\\\" e levou em conta dados meteorológicos dos últimos 40 anos.\",\n",
        "  \"output: analise de probabilidade  de veracidade da noticia, levando em consideração apenas fatos, logica e dando explicações sucintas com base na realidade. **Probabilidade:** Moderada a alta. A notícia apresenta elementos que sugerem credibilidade, mas é importante considerar alguns pontos.\\n\\n**Elementos que indicam credibilidade:**\\n\\n* **Fonte:** ClimaMeter é uma iniciativa de pesquisadores dedicados a estudos climáticos, o que sugere conhecimento na área.\\n* **Metodologia:** A notícia menciona uma \\\"análise rápida de atribuição\\\" e o uso de dados meteorológicos dos últimos 40 anos. Isso indica um embasamento científico para a conclusão.\\n* **Consenso científico:** A ligação entre mudanças climáticas e eventos climáticos extremos, como chuvas intensas, é amplamente aceita pela comunidade científica.\\n\\n**Pontos a considerar:**\\n\\n* **Acesso ao estudo:** A análise seria mais confiável se o estudo completo estivesse disponível para avaliação por outros cientistas e pelo público.\\n* **Fatores regionais:** O estudo pode ser específico para certas regiões do RS, e não necessariamente aplicável a todo o estado.\\n* **Complexidade climática:**  Atribuir eventos climáticos específicos exclusivamente às mudanças climáticas é um desafio, pois o clima é um sistema complexo influenciado por diversos fatores.\\n\\n**Conclusão:**\\n\\nA notícia apresenta uma conclusão plausível, baseada em uma análise científica. No entanto, é importante considerar as limitações e buscar mais informações sobre o estudo para uma avaliação mais completa.\",\n",
        "  \"input: Imagem, texto ou vídeo referente a noticia a ser analisada.  De acordo com especialistas, apesar de o Brasil contar com um Plano Nacional de Adaptação à Mudança do Clima desde 2016, o documento nunca teria saído do papel.A BBC News Brasil enviou questionamentos ao Palácio do Planalto, ao Ministério do Meio Ambiente (MMA), e à Casa Civil sobre o fim do programa. Em nota, o MMA disse que pretende atualizar o \\\"Brasil 2040\\\" (leia mais sobre a resposta da pasta abaixo).Procurada, a assessoria de imprensa da ex-presidente Dilma Rousseff informou que se manifestaria sobre o assunto após a publicação da reportagem.\",\n",
        "  \"output: analise de probabilidade  de veracidade da noticia, levando em consideração apenas fatos, logica e dando explicações sucintas com base na realidade. A probabilidade da notícia ser verdadeira é **alta**. \\n\\n**Elementos que sustentam a veracidade:**\\n\\n* **Fontes Confiáveis:** A notícia cita especialistas e a BBC News Brasil, conhecida por sua reputação de jornalismo sério.\\n* **Evidências:**  A reportagem menciona um Plano Nacional de Adaptação à Mudança do Clima existente desde 2016, o que pode ser verificado.\\n* **Busca por Respostas:** A BBC buscou informações de diferentes órgãos governamentais, incluindo o Palácio do Planalto, o Ministério do Meio Ambiente e a Casa Civil.\\n* **Resposta do MMA:** A resposta do MMA, mencionando a atualização do \\\"Brasil 2040\\\", sugere que há algum plano em andamento, mesmo que o plano de 2016 não tenha sido implementado.\\n* **Resposta de Dilma Rousseff:** A assessoria da ex-presidente Dilma Rousseff, responsável pela criação do plano em 2016, se manifestaria após a publicação. Isso indica que o assunto é relevante e que a notícia busca diferentes perspectivas.\\n\\n**Conclusão:**\\n\\nA notícia apresenta fortes indícios de ser verdadeira. A busca por diferentes fontes, as respostas obtidas, e a reputação da BBC News Brasil contribuem para a alta probabilidade de veracidade.\",\n",
        "  \"input: Imagem, texto ou vídeo referente a noticia a ser analisada.  Uma pipoca estourou e graças a velocidade do seu pulo furou a porta de uma geladeira.\",\n",
        "  \"output: analise de probabilidade  de veracidade da noticia, levando em consideração apenas fatos, logica e dando explicações sucintas com base na realidade. A probabilidade da notícia de que uma pipoca estourou e furou a porta de uma geladeira é **extremamente baixa**. \\n\\n**Elementos que sustentam a improbabilidade:**\\n\\n* **Força do impacto:** Uma pipoca, mesmo quando explode com força, não possui energia suficiente para perfurar uma porta de geladeira, que é feita de metal ou outro material resistente. \\n* **Direção:** A trajetória de uma pipoca estourando é imprevisível e aleatória. É improvável que uma pipoca, ao estourar, ganhe impulso suficiente para se projetar verticalmente e atingir uma porta de geladeira com força.\\n* **Resistência da porta:** Portas de geladeira são projetadas para resistir a impactos e são geralmente feitas de materiais robustos.\\n\\n**Conclusão:**\\n\\nA notícia é altamente improvável de ser verdadeira devido à falta de plausibilidade física. É mais provável que seja uma história inventada para fins humorísticos ou de exagero.\",\n",
        "  \"input: Imagem, texto ou vídeo referente a noticia a ser analisada.  De acordo com uma investigação feita nos últimos cinco anos, foi mostrado que entre 1953 e 2019 a Venezuela perdeu aproximadamente 98% da cobertura de gelo. E essa perda se acelerou depois de 1998. Desde 2016, o derretimento do gelo foi de aproximadamente 17% por ano.\",\n",
        "  \"output: analise de probabilidade  de veracidade da noticia, levando em consideração apenas fatos, logica e dando explicações sucintas com base na realidade. A informação sobre a perda de gelo na Venezuela precisa ser analisada com cautela. Apesar de parecer factual, a premissa possui uma falha fundamental:\\nA Venezuela não possui geleiras permanentes: A Venezuela é um país tropical localizado próximo ao Equador. Seu clima é quente e úmido na maior parte do território, com temperaturas médias elevadas durante todo o ano. As condições climáticas da Venezuela não permitem a formação de geleiras permanentes, como as encontradas em regiões polares ou em altas montanhas.\\nConclusão: A afirmação de que a Venezuela perdeu 98% da sua cobertura de gelo entre 1953 e 2019 é incorreta. A Venezuela não possui geleiras permanentes para que essa perda seja possível. A informação provavelmente se baseia em dados errôneos ou confunde a Venezuela com outro país.\\nÉ importante verificar as fontes de informação e ter conhecimento básico de geografia e clima para evitar a propagação de notícias falsas.\",\n",
        "  \"input: Imagem, texto ou vídeo referente a noticia a ser analisada.  um balde de agua mata morador\",\n",
        "  \"output: analise de probabilidade  de veracidade da noticia, levando em consideração apenas fatos, logica e dando explicações sucintas com base na realidade. \",\n",
        "    \"você é responsável por avaliar a probabilidade das noticias inseridas, sejam textos, imagens ou vídeos, baseado em logica. Vai dar explicações sucintas e listadas da avaliação. Caso seja uma imagem liste o porque do seu argumento assim como no texto. Você é responsável por diminuir o numero de noticias falsas sendo espalhadas. De fontes para sustentar seus argumentos.\",\n",
        "    \"input: Imagem, texto ou vídeo referente a noticia a ser analisada.  \",\n",
        "    noticia,\n",
        "    \"output: analise de probabilidade  de veracidade da noticia, levando em consideração apenas fatos, logica e dando explicações sucintas com base na realidade.\"\n",
        "  ]\n",
        "  response = model.generate_content(prompt_parts)\n",
        "  return response.text\n",
        "\n",
        "while True:\n",
        "  print(\" <<<<<<< ----------Próxima noticia a ser avaliada---------- >>>>>>\",\"\\n\",\"<<<<<<< -------------------------------------------------- >>>>>>\",\"\\n\")\n",
        "  noticia = input(\"Digite a notícia que deseja analisar (ou 'sair' para encerrar): \\n\")\n",
        "  if noticia.lower() == 'sair':\n",
        "    break\n",
        "\n",
        "  analise = analisar_noticia(noticia)\n",
        "  print(analise)"
      ]
    }
  ],
  "metadata": {
    "colab": {
      "authorship_tag": "ABX9TyMfo2krB1Y6YZHlivhcUiKb",
      "include_colab_link": true,
      "provenance": []
    },
    "kernelspec": {
      "display_name": "Python 3",
      "name": "python3"
    },
    "language_info": {
      "name": "python"
    }
  },
  "nbformat": 4,
  "nbformat_minor": 0
}
